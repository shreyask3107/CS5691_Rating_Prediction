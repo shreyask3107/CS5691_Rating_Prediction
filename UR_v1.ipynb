{
 "cells": [
  {
   "cell_type": "markdown",
   "metadata": {},
   "source": [
    "v3: SVM\n",
    "    "
   ]
  },
  {
   "cell_type": "code",
   "execution_count": 33,
   "metadata": {
    "ExecuteTime": {
     "end_time": "2021-04-30T20:37:11.988928Z",
     "start_time": "2021-04-30T20:37:11.984118Z"
    }
   },
   "outputs": [],
   "source": [
    "# time = 0\n",
    "import pandas as pd\n",
    "import numpy as np\n",
    "from sklearn.svm import SVR\n",
    "from sklearn.kernel_ridge import KernelRidge as KRR\n",
    "from sklearn.metrics import mean_squared_error\n",
    "from sklearn.decomposition import TruncatedSVD\n",
    "from sklearn.decomposition import PCA\n",
    "import xgboost as xgb"
   ]
  },
  {
   "cell_type": "code",
   "execution_count": 34,
   "metadata": {
    "ExecuteTime": {
     "end_time": "2021-04-30T20:37:13.101405Z",
     "start_time": "2021-04-30T20:37:12.272321Z"
    }
   },
   "outputs": [
    {
     "name": "stdout",
     "output_type": "stream",
     "text": [
      "Preparing training files....\n"
     ]
    }
   ],
   "source": [
    "# Data Loading\n",
    "print(\"Preparing training files....\")\n",
    "\n",
    "songs_df=pd.read_csv('songs.csv')\n",
    "df_test=pd.read_csv('test.csv') # Large 500MB\n",
    "df_submission = pd.read_csv('dummy_submission.csv')\n",
    "df_new_train = pd.read_csv('train.csv')\n",
    "song_labels = pd.read_csv('song_labels.csv')\n",
    "df_train_full=df_new_train.reset_index(drop=True)\n",
    "train_df = df_train_full\n",
    "\n",
    "train = train_df\n",
    "test = df_test\n",
    "test_df= df_test\n"
   ]
  },
  {
   "cell_type": "code",
   "execution_count": 35,
   "metadata": {},
   "outputs": [
    {
     "data": {
      "text/html": [
       "<div>\n",
       "<style scoped>\n",
       "    .dataframe tbody tr th:only-of-type {\n",
       "        vertical-align: middle;\n",
       "    }\n",
       "\n",
       "    .dataframe tbody tr th {\n",
       "        vertical-align: top;\n",
       "    }\n",
       "\n",
       "    .dataframe thead th {\n",
       "        text-align: right;\n",
       "    }\n",
       "</style>\n",
       "<table border=\"1\" class=\"dataframe\">\n",
       "  <thead>\n",
       "    <tr style=\"text-align: right;\">\n",
       "      <th></th>\n",
       "      <th>platform_id</th>\n",
       "      <th>label_id</th>\n",
       "      <th>count</th>\n",
       "      <th>song_id</th>\n",
       "    </tr>\n",
       "  </thead>\n",
       "  <tbody>\n",
       "    <tr>\n",
       "      <th>0</th>\n",
       "      <td>Q207781</td>\n",
       "      <td>10304</td>\n",
       "      <td>6</td>\n",
       "      <td>4785.0</td>\n",
       "    </tr>\n",
       "    <tr>\n",
       "      <th>1</th>\n",
       "      <td>Q207781</td>\n",
       "      <td>11973</td>\n",
       "      <td>2</td>\n",
       "      <td>4785.0</td>\n",
       "    </tr>\n",
       "    <tr>\n",
       "      <th>2</th>\n",
       "      <td>Q207781</td>\n",
       "      <td>20676</td>\n",
       "      <td>1</td>\n",
       "      <td>4785.0</td>\n",
       "    </tr>\n",
       "    <tr>\n",
       "      <th>3</th>\n",
       "      <td>Q207781</td>\n",
       "      <td>23471</td>\n",
       "      <td>17</td>\n",
       "      <td>4785.0</td>\n",
       "    </tr>\n",
       "    <tr>\n",
       "      <th>4</th>\n",
       "      <td>Q207781</td>\n",
       "      <td>3042</td>\n",
       "      <td>3</td>\n",
       "      <td>4785.0</td>\n",
       "    </tr>\n",
       "  </tbody>\n",
       "</table>\n",
       "</div>"
      ],
      "text/plain": [
       "  platform_id  label_id  count  song_id\n",
       "0     Q207781     10304      6   4785.0\n",
       "1     Q207781     11973      2   4785.0\n",
       "2     Q207781     20676      1   4785.0\n",
       "3     Q207781     23471     17   4785.0\n",
       "4     Q207781      3042      3   4785.0"
      ]
     },
     "execution_count": 35,
     "metadata": {},
     "output_type": "execute_result"
    }
   ],
   "source": [
    "language_no = len(songs_df['language'].unique())\n",
    "song_labels = pd.merge(song_labels, songs_df, on='platform_id', how='outer')\n",
    "song_labels = song_labels.drop(['released_year', 'language', 'number_of_comments'], axis=1)\n",
    "song_labels.head()\n"
   ]
  },
  {
   "cell_type": "code",
   "execution_count": 36,
   "metadata": {},
   "outputs": [
    {
     "data": {
      "text/html": [
       "<div>\n",
       "<style scoped>\n",
       "    .dataframe tbody tr th:only-of-type {\n",
       "        vertical-align: middle;\n",
       "    }\n",
       "\n",
       "    .dataframe tbody tr th {\n",
       "        vertical-align: top;\n",
       "    }\n",
       "\n",
       "    .dataframe thead th {\n",
       "        text-align: right;\n",
       "    }\n",
       "</style>\n",
       "<table border=\"1\" class=\"dataframe\">\n",
       "  <thead>\n",
       "    <tr style=\"text-align: right;\">\n",
       "      <th></th>\n",
       "      <th>song_id</th>\n",
       "      <th>platform_id</th>\n",
       "      <th>label_id</th>\n",
       "      <th>count</th>\n",
       "    </tr>\n",
       "  </thead>\n",
       "  <tbody>\n",
       "    <tr>\n",
       "      <th>4200</th>\n",
       "      <td>3459</td>\n",
       "      <td>P49540</td>\n",
       "      <td>21815.0</td>\n",
       "      <td>24.0</td>\n",
       "    </tr>\n",
       "    <tr>\n",
       "      <th>4201</th>\n",
       "      <td>3459</td>\n",
       "      <td>P49540</td>\n",
       "      <td>14527.0</td>\n",
       "      <td>12.0</td>\n",
       "    </tr>\n",
       "    <tr>\n",
       "      <th>4202</th>\n",
       "      <td>3459</td>\n",
       "      <td>P49540</td>\n",
       "      <td>10932.0</td>\n",
       "      <td>14.0</td>\n",
       "    </tr>\n",
       "    <tr>\n",
       "      <th>4203</th>\n",
       "      <td>3459</td>\n",
       "      <td>P49540</td>\n",
       "      <td>14552.0</td>\n",
       "      <td>21.0</td>\n",
       "    </tr>\n",
       "    <tr>\n",
       "      <th>4204</th>\n",
       "      <td>3459</td>\n",
       "      <td>P49540</td>\n",
       "      <td>20849.0</td>\n",
       "      <td>22.0</td>\n",
       "    </tr>\n",
       "  </tbody>\n",
       "</table>\n",
       "</div>"
      ],
      "text/plain": [
       "      song_id platform_id  label_id  count\n",
       "4200     3459      P49540   21815.0   24.0\n",
       "4201     3459      P49540   14527.0   12.0\n",
       "4202     3459      P49540   10932.0   14.0\n",
       "4203     3459      P49540   14552.0   21.0\n",
       "4204     3459      P49540   20849.0   22.0"
      ]
     },
     "execution_count": 36,
     "metadata": {},
     "output_type": "execute_result"
    }
   ],
   "source": [
    "song_labels = song_labels.drop_duplicates(subset=['label_id', 'song_id'], keep='last')\n",
    "song_labels = pd.merge(train, song_labels, on='song_id', how='outer')\n",
    "song_labels = song_labels.drop(['customer_id','score'], axis=1)\n",
    "song_labels = song_labels.dropna(subset=['song_id'])\n",
    "song_labels = song_labels.drop_duplicates(subset=['label_id', 'song_id'], keep='last')\n",
    "song_labels['song_id'] = song_labels['song_id'].astype(int)\n",
    "song_labels.head()"
   ]
  },
  {
   "cell_type": "code",
   "execution_count": 28,
   "metadata": {},
   "outputs": [],
   "source": [
    "df_submission.to_csv('song_lables_edited.csv',index=False)"
   ]
  },
  {
   "cell_type": "code",
   "execution_count": 37,
   "metadata": {},
   "outputs": [],
   "source": [
    "songs_no = len(train['song_id'].unique())\n",
    "features = len(song_labels['label_id'].unique())"
   ]
  },
  {
   "cell_type": "code",
   "execution_count": 38,
   "metadata": {
    "ExecuteTime": {
     "end_time": "2021-04-30T20:37:13.837629Z",
     "start_time": "2021-04-30T20:37:13.748577Z"
    }
   },
   "outputs": [],
   "source": [
    "user_ids = train.customer_id.unique()\n",
    "user_ids = list(user_ids)\n",
    "total_users = len(user_ids)"
   ]
  },
  {
   "cell_type": "code",
   "execution_count": 41,
   "metadata": {},
   "outputs": [
    {
     "data": {
      "text/plain": [
       "platform_id    99.8004\n",
       "label_id       99.8004\n",
       "count          99.8004\n",
       "dtype: float64"
      ]
     },
     "execution_count": 41,
     "metadata": {},
     "output_type": "execute_result"
    }
   ],
   "source": [
    "song_labels.groupby(['label_id']).count().mean()"
   ]
  },
  {
   "cell_type": "code",
   "execution_count": 18,
   "metadata": {},
   "outputs": [],
   "source": [
    "X = song_labels.pivot(index='song_id', columns='label_id', values='count')\n",
    "X = np.array(X.drop(X.columns[0], axis=1))\n",
    "X  = np.nan_to_num(X, nan = 0)\n",
    "\n",
    "pca = PCA(n_components=100)\n",
    "X = pca.fit_transform(X)\n",
    "\n",
    "for userId in user_ids:\n",
    "    User_specific = train_df.loc[train_df['customer_id'] == userId]\n",
    "    User_specific_test = test_df.loc[test_df['customer_id'] == userId]\n",
    "    if (len(User_specific)!=0) and (len(User_specific_test)!=0):\n",
    "        X_training_matrix = X[User_specific.song_id -1,:]\n",
    "        Y_training_matrix = User_specific.score\n",
    "        X_testing_matrix = X[User_specific_test.song_id -1,:]\n",
    "        list_songId = User_specific_test.song_id\n",
    "        model =  KRR(kernel='rbf')\n",
    "        model.fit(X_training_matrix, Y_training_matrix)\n",
    "        Y_test_pred_matrix = model.predict(X_testing_matrix)\n",
    "        test_df.loc[test_df['customer_id'] == userId,'score']  = Y_test_pred_matrix"
   ]
  },
  {
   "cell_type": "code",
   "execution_count": 19,
   "metadata": {},
   "outputs": [],
   "source": [
    "df_submission.score = test_df.score"
   ]
  },
  {
   "cell_type": "code",
   "execution_count": 20,
   "metadata": {},
   "outputs": [],
   "source": [
    "df_submission.loc[df_submission['score']>5,'score'] = 5\n",
    "df_submission.loc[df_submission['score']<1,'score'] = 1"
   ]
  },
  {
   "cell_type": "code",
   "execution_count": 21,
   "metadata": {},
   "outputs": [],
   "source": [
    "df_submission.to_csv('./UR_v3.csv',index=False)"
   ]
  },
  {
   "cell_type": "code",
   "execution_count": 22,
   "metadata": {},
   "outputs": [
    {
     "data": {
      "text/html": [
       "<div>\n",
       "<style scoped>\n",
       "    .dataframe tbody tr th:only-of-type {\n",
       "        vertical-align: middle;\n",
       "    }\n",
       "\n",
       "    .dataframe tbody tr th {\n",
       "        vertical-align: top;\n",
       "    }\n",
       "\n",
       "    .dataframe thead th {\n",
       "        text-align: right;\n",
       "    }\n",
       "</style>\n",
       "<table border=\"1\" class=\"dataframe\">\n",
       "  <thead>\n",
       "    <tr style=\"text-align: right;\">\n",
       "      <th></th>\n",
       "      <th>test_row_id</th>\n",
       "      <th>score</th>\n",
       "    </tr>\n",
       "  </thead>\n",
       "  <tbody>\n",
       "    <tr>\n",
       "      <th>0</th>\n",
       "      <td>0</td>\n",
       "      <td>1.0</td>\n",
       "    </tr>\n",
       "    <tr>\n",
       "      <th>1</th>\n",
       "      <td>1</td>\n",
       "      <td>1.0</td>\n",
       "    </tr>\n",
       "    <tr>\n",
       "      <th>2</th>\n",
       "      <td>2</td>\n",
       "      <td>1.0</td>\n",
       "    </tr>\n",
       "    <tr>\n",
       "      <th>3</th>\n",
       "      <td>3</td>\n",
       "      <td>1.0</td>\n",
       "    </tr>\n",
       "    <tr>\n",
       "      <th>4</th>\n",
       "      <td>4</td>\n",
       "      <td>1.0</td>\n",
       "    </tr>\n",
       "    <tr>\n",
       "      <th>...</th>\n",
       "      <td>...</td>\n",
       "      <td>...</td>\n",
       "    </tr>\n",
       "    <tr>\n",
       "      <th>670676</th>\n",
       "      <td>670676</td>\n",
       "      <td>1.0</td>\n",
       "    </tr>\n",
       "    <tr>\n",
       "      <th>670677</th>\n",
       "      <td>670677</td>\n",
       "      <td>1.0</td>\n",
       "    </tr>\n",
       "    <tr>\n",
       "      <th>670678</th>\n",
       "      <td>670678</td>\n",
       "      <td>1.0</td>\n",
       "    </tr>\n",
       "    <tr>\n",
       "      <th>670679</th>\n",
       "      <td>670679</td>\n",
       "      <td>1.0</td>\n",
       "    </tr>\n",
       "    <tr>\n",
       "      <th>670680</th>\n",
       "      <td>670680</td>\n",
       "      <td>1.0</td>\n",
       "    </tr>\n",
       "  </tbody>\n",
       "</table>\n",
       "<p>670681 rows × 2 columns</p>\n",
       "</div>"
      ],
      "text/plain": [
       "        test_row_id  score\n",
       "0                 0    1.0\n",
       "1                 1    1.0\n",
       "2                 2    1.0\n",
       "3                 3    1.0\n",
       "4                 4    1.0\n",
       "...             ...    ...\n",
       "670676       670676    1.0\n",
       "670677       670677    1.0\n",
       "670678       670678    1.0\n",
       "670679       670679    1.0\n",
       "670680       670680    1.0\n",
       "\n",
       "[670681 rows x 2 columns]"
      ]
     },
     "execution_count": 22,
     "metadata": {},
     "output_type": "execute_result"
    }
   ],
   "source": [
    "df_submission"
   ]
  },
  {
   "cell_type": "code",
   "execution_count": 23,
   "metadata": {},
   "outputs": [
    {
     "data": {
      "text/plain": [
       "0         0.0\n",
       "1         0.0\n",
       "2         0.0\n",
       "3         0.0\n",
       "4         0.0\n",
       "         ... \n",
       "670676    0.0\n",
       "670677    0.0\n",
       "670678    0.0\n",
       "670679    0.0\n",
       "670680    0.0\n",
       "Name: score, Length: 670681, dtype: float64"
      ]
     },
     "execution_count": 23,
     "metadata": {},
     "output_type": "execute_result"
    }
   ],
   "source": [
    "test_df.score"
   ]
  },
  {
   "cell_type": "code",
   "execution_count": null,
   "metadata": {},
   "outputs": [],
   "source": []
  },
  {
   "cell_type": "code",
   "execution_count": null,
   "metadata": {},
   "outputs": [],
   "source": []
  },
  {
   "cell_type": "code",
   "execution_count": null,
   "metadata": {},
   "outputs": [],
   "source": []
  },
  {
   "cell_type": "code",
   "execution_count": null,
   "metadata": {},
   "outputs": [],
   "source": []
  },
  {
   "cell_type": "code",
   "execution_count": null,
   "metadata": {},
   "outputs": [],
   "source": []
  },
  {
   "cell_type": "code",
   "execution_count": null,
   "metadata": {},
   "outputs": [],
   "source": []
  },
  {
   "cell_type": "code",
   "execution_count": 18,
   "metadata": {},
   "outputs": [
    {
     "name": "stdout",
     "output_type": "stream",
     "text": [
      "done generation of X\n",
      "[LibSVM]done SVR Predictions\n"
     ]
    }
   ],
   "source": [
    "def generate_XY():\n",
    "    X=np.zeros((songs_no,features)) \n",
    "\n",
    "    songs_with_featvecs=set(song_labels['song_id'])\n",
    "    rating_songs = -1*np.ones(songs_no) \n",
    "\n",
    "    X = np.array(song_labels.pivot(index='song_id', columns='label_id', values='count'))\n",
    "    X  = np.nan_to_num(X, nan = -1)\n",
    "\n",
    "    for i in range(songs_no):\n",
    "        temp = train_df[train_df['song_id']==i]\n",
    "        if len(temp)==0:\n",
    "            continue\n",
    "        ratings_curr_songs = temp['score']\n",
    "        rating_songs[i] = np.mean(ratings_curr_songs)\n",
    "\n",
    "\n",
    "    all_genres = []\n",
    "    for i in range(songs_no):\n",
    "        temp = songs_df[songs_df['song_id']==i]\n",
    "        if len(temp)==0:\n",
    "            continue\n",
    "        temp = temp['language'].values[0]\n",
    "        all_genres.append(temp)\n",
    "        \n",
    "#     print(all_genres)\n",
    "\n",
    "#     X_genre = np.zeros((songs_no,language_no))\n",
    "\n",
    "#     for i in range(songs_no):\n",
    "#         temp = songs_df[songs_df['song_id']==i]\n",
    "#         if len(temp)==0:\n",
    "#             continue\n",
    "#         temp = temp['language'].values[0]\n",
    "\n",
    "#         for idx, genre in enumerate(all_genres):\n",
    "#             X_genre[i,idx] = genre in temp\n",
    "\n",
    "#     X_concat = np.concatenate((X,X_genre),axis=1)\n",
    "    return X, rating_songs\n",
    "\n",
    "def SVR_Predictions(X, rating_songs):\n",
    "    X_all = X[rating_songs>0]\n",
    "    Y_all = rating_songs[rating_songs>0]\n",
    "\n",
    "    best_kernel_param = 0.1\n",
    "    best_reg_param = 10\n",
    "\n",
    "    SVM_algo   = SVR(C=best_reg_param, kernel='rbf', gamma = best_kernel_param, verbose = True)\n",
    "    classifier = SVM_algo.fit(X_all,Y_all)\n",
    "\n",
    "    X_all_full = X\n",
    "    Y_pred_all = classifier.predict(X_all_full)\n",
    "    return Y_pred_all\n",
    "\n",
    "\n",
    "X, rating_movies = generate_XY()\n",
    "print('done generation of X')\n",
    "Y_pred_all = SVR_Predictions(X, rating_movies)\n",
    "print('done SVR Predictions')\n"
   ]
  },
  {
   "cell_type": "code",
   "execution_count": 21,
   "metadata": {},
   "outputs": [
    {
     "data": {
      "text/plain": [
       "(10000,)"
      ]
     },
     "execution_count": 21,
     "metadata": {},
     "output_type": "execute_result"
    }
   ],
   "source": [
    "Y_pred_all.shape"
   ]
  },
  {
   "cell_type": "code",
   "execution_count": 33,
   "metadata": {},
   "outputs": [
    {
     "data": {
      "text/plain": [
       "3074"
      ]
     },
     "execution_count": 33,
     "metadata": {},
     "output_type": "execute_result"
    }
   ],
   "source": [
    "user_ids.index('J24644')"
   ]
  },
  {
   "cell_type": "code",
   "execution_count": 37,
   "metadata": {},
   "outputs": [
    {
     "ename": "IndexError",
     "evalue": "index 10000 is out of bounds for axis 0 with size 10000",
     "output_type": "error",
     "traceback": [
      "\u001b[0;31m---------------------------------------------------------------------------\u001b[0m",
      "\u001b[0;31mIndexError\u001b[0m                                Traceback (most recent call last)",
      "\u001b[0;32m<ipython-input-37-99c5e4b8d67e>\u001b[0m in \u001b[0;36m<module>\u001b[0;34m\u001b[0m\n\u001b[1;32m     23\u001b[0m \u001b[0;34m\u001b[0m\u001b[0m\n\u001b[1;32m     24\u001b[0m \u001b[0;34m\u001b[0m\u001b[0m\n\u001b[0;32m---> 25\u001b[0;31m \u001b[0mrating_pred\u001b[0m \u001b[0;34m=\u001b[0m \u001b[0muserbased_regression\u001b[0m\u001b[0;34m(\u001b[0m\u001b[0;34m)\u001b[0m\u001b[0;34m\u001b[0m\u001b[0;34m\u001b[0m\u001b[0m\n\u001b[0m",
      "\u001b[0;32m<ipython-input-37-99c5e4b8d67e>\u001b[0m in \u001b[0;36muserbased_regression\u001b[0;34m()\u001b[0m\n\u001b[1;32m     19\u001b[0m             \u001b[0mclassifier\u001b[0m \u001b[0;34m=\u001b[0m \u001b[0mSVM_algo\u001b[0m\u001b[0;34m.\u001b[0m\u001b[0mfit\u001b[0m\u001b[0;34m(\u001b[0m\u001b[0mX_training_matrix\u001b[0m\u001b[0;34m,\u001b[0m\u001b[0mY_training_matrix\u001b[0m\u001b[0;34m)\u001b[0m\u001b[0;34m\u001b[0m\u001b[0;34m\u001b[0m\u001b[0m\n\u001b[1;32m     20\u001b[0m             \u001b[0mY_test_pred_matrix\u001b[0m \u001b[0;34m=\u001b[0m \u001b[0mclassifier\u001b[0m\u001b[0;34m.\u001b[0m\u001b[0mpredict\u001b[0m\u001b[0;34m(\u001b[0m\u001b[0mX_testing_matrix\u001b[0m\u001b[0;34m)\u001b[0m\u001b[0;34m\u001b[0m\u001b[0;34m\u001b[0m\u001b[0m\n\u001b[0;32m---> 21\u001b[0;31m             \u001b[0mrating_pred\u001b[0m\u001b[0;34m[\u001b[0m\u001b[0muser_ids\u001b[0m\u001b[0;34m.\u001b[0m\u001b[0mindex\u001b[0m\u001b[0;34m(\u001b[0m\u001b[0muserId\u001b[0m\u001b[0;34m)\u001b[0m\u001b[0;34m,\u001b[0m\u001b[0mlist_songId\u001b[0m\u001b[0;34m.\u001b[0m\u001b[0mvalues\u001b[0m\u001b[0;34m-\u001b[0m\u001b[0;36m1\u001b[0m\u001b[0;34m]\u001b[0m \u001b[0;34m=\u001b[0m \u001b[0mY_test_pred_matrix\u001b[0m\u001b[0;34m\u001b[0m\u001b[0;34m\u001b[0m\u001b[0m\n\u001b[0m\u001b[1;32m     22\u001b[0m     \u001b[0;32mreturn\u001b[0m \u001b[0mrating_pred\u001b[0m\u001b[0;34m\u001b[0m\u001b[0;34m\u001b[0m\u001b[0m\n\u001b[1;32m     23\u001b[0m \u001b[0;34m\u001b[0m\u001b[0m\n",
      "\u001b[0;31mIndexError\u001b[0m: index 10000 is out of bounds for axis 0 with size 10000"
     ]
    }
   ],
   "source": [
    "### USER BASED REGRESSION ###\n",
    "def userbased_regression():\n",
    "    kernel_param = 0.1\n",
    "    C = 10\n",
    "    alpha = 1/(2*C)\n",
    "\n",
    "    #For user specific\n",
    "    rating_pred = np.zeros((songs_no,songs_no))\n",
    "\n",
    "    for userId in user_ids:\n",
    "        User_specific = train_df.loc[train_df['customer_id'] == userId]\n",
    "        User_specific_test = test_df.loc[test_df['customer_id'] == userId]\n",
    "        if (len(User_specific)!=0) and (len(User_specific_test)!=0):\n",
    "            X_training_matrix = X[User_specific.song_id -1,:]\n",
    "            Y_training_matrix = User_specific.score\n",
    "            X_testing_matrix = X[User_specific_test.song_id -1,:]\n",
    "            list_songId = User_specific_test.song_id\n",
    "            SVM_algo =  KRR(kernel='rbf')\n",
    "            classifier = SVM_algo.fit(X_training_matrix,Y_training_matrix)\n",
    "            Y_test_pred_matrix = classifier.predict(X_testing_matrix)\n",
    "            rating_pred[user_ids.index(userId),list_songId.values-1] = Y_test_pred_matrix\n",
    "    return rating_pred\n",
    "\n",
    "\n",
    "rating_pred = userbased_regression()"
   ]
  },
  {
   "cell_type": "code",
   "execution_count": 25,
   "metadata": {},
   "outputs": [
    {
     "data": {
      "text/plain": [
       "(10000, 10000)"
      ]
     },
     "execution_count": 25,
     "metadata": {},
     "output_type": "execute_result"
    }
   ],
   "source": [
    "rating_pred.shape"
   ]
  },
  {
   "cell_type": "code",
   "execution_count": 26,
   "metadata": {},
   "outputs": [],
   "source": [
    "userid =  df_test.iloc[i,0]"
   ]
  },
  {
   "cell_type": "code",
   "execution_count": 27,
   "metadata": {},
   "outputs": [
    {
     "data": {
      "text/plain": [
       "'J24644'"
      ]
     },
     "execution_count": 27,
     "metadata": {},
     "output_type": "execute_result"
    }
   ],
   "source": [
    "userid"
   ]
  },
  {
   "cell_type": "code",
   "execution_count": null,
   "metadata": {},
   "outputs": [],
   "source": [
    "rating_pred"
   ]
  },
  {
   "cell_type": "code",
   "execution_count": null,
   "metadata": {},
   "outputs": [],
   "source": [
    "# rectifying zero values of user regression values\n",
    "user_regression = np.zeros(len(df_test))\n",
    "for i in range(len(df_test)):\n",
    "    userid =  df_test.iloc[i,0]\n",
    "    movieid = df_test.iloc[i,1]\n",
    "    #movie_based\n",
    "    rating_movie = Y_pred_all[movieid]\n",
    "    #user based\n",
    "    rating_user = rating_pred[user_ids.index(userid),movieid-1]\n",
    "    if rating_user==0:\n",
    "        rating_user = rating_movie\n",
    "    user_regression[i] = rating_user\n"
   ]
  },
  {
   "cell_type": "code",
   "execution_count": 6,
   "metadata": {},
   "outputs": [
    {
     "name": "stdout",
     "output_type": "stream",
     "text": [
      "Starting truncated svd with number of components as 20\n",
      "Iteration: 0 , Loss: 0.004090392101434116 \n",
      "Iteration: 1 , Loss: 0.0039244186879267015 \n",
      "Iteration: 2 , Loss: 0.0037922913836162535 \n",
      "Iteration: 3 , Loss: 0.0036813374917077026 \n",
      "Iteration: 4 , Loss: 0.003585387402402682 \n",
      "Iteration: 5 , Loss: 0.0035008208988705674 \n",
      "Iteration: 6 , Loss: 0.0034252374367895392 \n",
      "Iteration: 7 , Loss: 0.003356930466579425 \n",
      "Iteration: 8 , Loss: 0.0032946362492698 \n",
      "Iteration: 9 , Loss: 0.0032373930924846895 \n",
      "Done\n",
      "Starting truncated svd with number of components as 15\n",
      "Iteration: 0 , Loss: 0.0033889477928180562 \n",
      "Iteration: 1 , Loss: 0.003331020945049362 \n",
      "Iteration: 2 , Loss: 0.0032813019992975656 \n",
      "Iteration: 3 , Loss: 0.003237572162961393 \n",
      "Iteration: 4 , Loss: 0.0031982486506286767 \n",
      "Iteration: 5 , Loss: 0.0031622759794251885 \n",
      "Iteration: 6 , Loss: 0.00312895677409973 \n",
      "Iteration: 7 , Loss: 0.003097815847069581 \n",
      "Iteration: 8 , Loss: 0.0030685146444273553 \n",
      "Iteration: 9 , Loss: 0.0030408012373814284 \n",
      "Done\n"
     ]
    }
   ],
   "source": [
    "### TRUNCSVD ###\n",
    "\n",
    "#Removing duplicates\n",
    "song_matrix = pd.concat([train,test]).drop_duplicates(subset = ['customer_id','song_id'],keep = 'first')\n",
    "#Creates a song matrix of #numofusers vs #noofsongs\n",
    "song_matrix = song_matrix.pivot('customer_id','song_id','score')\n",
    "\n",
    "song_means = song_matrix.mean()\n",
    "user_means = song_matrix.mean(axis=1)\n",
    "#Mean shifting\n",
    "song_shifted_temp = song_matrix-song_means\n",
    "song_shifted = song_shifted_temp.fillna(0)\n",
    "#To get locations where we have ratings\n",
    "mask = -song_shifted_temp.isnull()\n",
    "\n",
    "def repeated_matrix_reconstruction(num_pcs,num_iterations):\n",
    "    global song_shifted\n",
    "    for i in range(num_iterations):\n",
    "        SVD = TruncatedSVD(n_components=num_pcs,random_state=42)\n",
    "        SVD.fit(song_shifted)\n",
    "        #For the ease of applying masks we work with pandas\n",
    "        song_represented =  pd.DataFrame(SVD.inverse_transform(SVD.transform(song_shifted)),columns=song_shifted.columns,index=song_shifted.index)\n",
    "        loss = mean_squared_error(song_represented[mask].fillna(0),song_shifted_temp[mask].fillna(0))\n",
    "        print('Iteration: {} , Loss: {} '.format(i,loss))\n",
    "        #To just update the non-zero values of song_reprented values to the true ratings\n",
    "        song_represented[mask] = song_shifted_temp[mask]\n",
    "        song_shifted = song_represented\n",
    "    #Mean shifting it back\n",
    "    song_mat = song_shifted + song_means\n",
    "    song_mat = song_mat.clip(lower=1,upper=5)\n",
    "    return song_mat\n",
    "print(\"Starting truncated svd with number of components as 20\")\n",
    "representative_matrix_20 = repeated_matrix_reconstruction(20,10)\n",
    "print(\"Done\")\n",
    "print(\"Starting truncated svd with number of components as 15\")\n",
    "representative_matrix_15 = repeated_matrix_reconstruction(15,10)\n",
    "print(\"Done\")\n",
    "#bagging\n",
    "rating_matrix = (representative_matrix_15+representative_matrix_20)/2"
   ]
  },
  {
   "cell_type": "code",
   "execution_count": 7,
   "metadata": {},
   "outputs": [],
   "source": [
    "trunc_prediction = np.zeros(len(test))\n",
    "for i in range(len(test)):\n",
    "    userid =  test.iloc[i,0]\n",
    "    songid = test.iloc[i,1]\n",
    "    trunc_prediction[i] = rating_matrix[rating_matrix.index==userid][songid].values[0]\n",
    "    \n"
   ]
  },
  {
   "cell_type": "code",
   "execution_count": 8,
   "metadata": {},
   "outputs": [
    {
     "data": {
      "text/plain": [
       "array([3.4163984 , 3.66428208, 4.03433837, ..., 3.74826155, 3.91394637,\n",
       "       3.23143152])"
      ]
     },
     "execution_count": 8,
     "metadata": {},
     "output_type": "execute_result"
    }
   ],
   "source": [
    "trunc_prediction"
   ]
  },
  {
   "cell_type": "code",
   "execution_count": 9,
   "metadata": {},
   "outputs": [
    {
     "data": {
      "text/plain": [
       "array([3.42, 3.66, 4.03, ..., 3.75, 3.91, 3.23])"
      ]
     },
     "execution_count": 9,
     "metadata": {},
     "output_type": "execute_result"
    }
   ],
   "source": [
    "np.around(trunc_prediction,2)"
   ]
  },
  {
   "cell_type": "code",
   "execution_count": null,
   "metadata": {},
   "outputs": [],
   "source": [
    "# ENSEMBLING\n",
    "\n",
    "PRED = user_regression\n",
    "PRED = np.around(PRED,1)\n",
    "\n",
    "PRED = np.clip(PRED, a_min# SUBMISSION\n",
    " = 1, a_max = 5)\n",
    "\n",
    "df_submission.score = PRED\n",
    "df_submission.to_csv('./UR_v1.csv',index=False)"
   ]
  },
  {
   "cell_type": "code",
   "execution_count": 11,
   "metadata": {},
   "outputs": [
    {
     "data": {
      "text/html": [
       "<div>\n",
       "<style scoped>\n",
       "    .dataframe tbody tr th:only-of-type {\n",
       "        vertical-align: middle;\n",
       "    }\n",
       "\n",
       "    .dataframe tbody tr th {\n",
       "        vertical-align: top;\n",
       "    }\n",
       "\n",
       "    .dataframe thead th {\n",
       "        text-align: right;\n",
       "    }\n",
       "</style>\n",
       "<table border=\"1\" class=\"dataframe\">\n",
       "  <thead>\n",
       "    <tr style=\"text-align: right;\">\n",
       "      <th></th>\n",
       "      <th>test_row_id</th>\n",
       "      <th>score</th>\n",
       "    </tr>\n",
       "  </thead>\n",
       "  <tbody>\n",
       "    <tr>\n",
       "      <th>0</th>\n",
       "      <td>0</td>\n",
       "      <td>3.4</td>\n",
       "    </tr>\n",
       "    <tr>\n",
       "      <th>1</th>\n",
       "      <td>1</td>\n",
       "      <td>3.7</td>\n",
       "    </tr>\n",
       "    <tr>\n",
       "      <th>2</th>\n",
       "      <td>2</td>\n",
       "      <td>4.0</td>\n",
       "    </tr>\n",
       "    <tr>\n",
       "      <th>3</th>\n",
       "      <td>3</td>\n",
       "      <td>4.0</td>\n",
       "    </tr>\n",
       "    <tr>\n",
       "      <th>4</th>\n",
       "      <td>4</td>\n",
       "      <td>3.9</td>\n",
       "    </tr>\n",
       "  </tbody>\n",
       "</table>\n",
       "</div>"
      ],
      "text/plain": [
       "   test_row_id  score\n",
       "0            0    3.4\n",
       "1            1    3.7\n",
       "2            2    4.0\n",
       "3            3    4.0\n",
       "4            4    3.9"
      ]
     },
     "execution_count": 11,
     "metadata": {},
     "output_type": "execute_result"
    }
   ],
   "source": [
    "df_submission.head()"
   ]
  },
  {
   "cell_type": "code",
   "execution_count": null,
   "metadata": {},
   "outputs": [],
   "source": []
  }
 ],
 "metadata": {
  "kernelspec": {
   "display_name": "Python 3",
   "language": "python",
   "name": "python3"
  },
  "language_info": {
   "codemirror_mode": {
    "name": "ipython",
    "version": 3
   },
   "file_extension": ".py",
   "mimetype": "text/x-python",
   "name": "python",
   "nbconvert_exporter": "python",
   "pygments_lexer": "ipython3",
   "version": "3.7.10"
  },
  "toc": {
   "base_numbering": 1,
   "nav_menu": {},
   "number_sections": true,
   "sideBar": true,
   "skip_h1_title": false,
   "title_cell": "Table of Contents",
   "title_sidebar": "Contents",
   "toc_cell": false,
   "toc_position": {},
   "toc_section_display": true,
   "toc_window_display": false
  },
  "varInspector": {
   "cols": {
    "lenName": 16,
    "lenType": 16,
    "lenVar": 40
   },
   "kernels_config": {
    "python": {
     "delete_cmd_postfix": "",
     "delete_cmd_prefix": "del ",
     "library": "var_list.py",
     "varRefreshCmd": "print(var_dic_list())"
    },
    "r": {
     "delete_cmd_postfix": ") ",
     "delete_cmd_prefix": "rm(",
     "library": "var_list.r",
     "varRefreshCmd": "cat(var_dic_list()) "
    }
   },
   "types_to_exclude": [
    "module",
    "function",
    "builtin_function_or_method",
    "instance",
    "_Feature"
   ],
   "window_display": false
  }
 },
 "nbformat": 4,
 "nbformat_minor": 2
}
