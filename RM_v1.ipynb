{
 "cells": [
  {
   "cell_type": "markdown",
   "metadata": {},
   "source": [
    "v1: 20, 10 and 15,10 gives 0.8377992451979948\n",
    "\n",
    "v2: 50,30 and 15,30 gives 0.8136568467301302\n",
    "\n",
    "v3: 50,30 and 15,10 gives 0.8041908409846222\n",
    "\n",
    "v4: 100, 50 and 15,10 gives 0.7990184757505774\n",
    "\n",
    "v5: 100, 50 only gives 0.86 -- chuck\n"
   ]
  },
  {
   "cell_type": "code",
   "execution_count": 52,
   "metadata": {
    "ExecuteTime": {
     "end_time": "2021-04-30T20:37:11.988928Z",
     "start_time": "2021-04-30T20:37:11.984118Z"
    }
   },
   "outputs": [],
   "source": [
    "import pandas as pd\n",
    "import numpy as np\n",
    "from sklearn.metrics import mean_squared_error\n",
    "from sklearn.decomposition import TruncatedSVD\n",
    "from sklearn.model_selection import train_test_split\n",
    "from sklearn.metrics import mean_squared_error\n",
    "import warnings\n",
    "warnings.filterwarnings(\"ignore\")"
   ]
  },
  {
   "cell_type": "code",
   "execution_count": 53,
   "metadata": {
    "ExecuteTime": {
     "end_time": "2021-04-30T20:37:13.101405Z",
     "start_time": "2021-04-30T20:37:12.272321Z"
    }
   },
   "outputs": [],
   "source": [
    "songs_df=pd.read_csv('songs.csv')\n",
    "test=pd.read_csv('test.csv')\n",
    "df_submission = pd.read_csv('dummy_submission.csv')\n",
    "df_new_train = pd.read_csv('train.csv')\n",
    "train=df_new_train.reset_index(drop=True)\n",
    "\n",
    "train, test = train_test_split(train, test_size=0.05, random_state=42, stratify = train['score'])\n",
    "\n",
    "Y_test = test.score\n",
    "test = test.drop(['score'], axis=1)"
   ]
  },
  {
   "cell_type": "code",
   "execution_count": 54,
   "metadata": {
    "ExecuteTime": {
     "end_time": "2021-04-30T20:37:13.207651Z",
     "start_time": "2021-04-30T20:37:13.200281Z"
    }
   },
   "outputs": [
    {
     "data": {
      "text/html": [
       "<div>\n",
       "<style scoped>\n",
       "    .dataframe tbody tr th:only-of-type {\n",
       "        vertical-align: middle;\n",
       "    }\n",
       "\n",
       "    .dataframe tbody tr th {\n",
       "        vertical-align: top;\n",
       "    }\n",
       "\n",
       "    .dataframe thead th {\n",
       "        text-align: right;\n",
       "    }\n",
       "</style>\n",
       "<table border=\"1\" class=\"dataframe\">\n",
       "  <thead>\n",
       "    <tr style=\"text-align: right;\">\n",
       "      <th></th>\n",
       "      <th>customer_id</th>\n",
       "      <th>song_id</th>\n",
       "    </tr>\n",
       "  </thead>\n",
       "  <tbody>\n",
       "    <tr>\n",
       "      <th>17288</th>\n",
       "      <td>K24595</td>\n",
       "      <td>189</td>\n",
       "    </tr>\n",
       "    <tr>\n",
       "      <th>493127</th>\n",
       "      <td>L1416</td>\n",
       "      <td>467</td>\n",
       "    </tr>\n",
       "    <tr>\n",
       "      <th>155892</th>\n",
       "      <td>G37171</td>\n",
       "      <td>7033</td>\n",
       "    </tr>\n",
       "    <tr>\n",
       "      <th>15475</th>\n",
       "      <td>H18372</td>\n",
       "      <td>19</td>\n",
       "    </tr>\n",
       "    <tr>\n",
       "      <th>82767</th>\n",
       "      <td>K21545</td>\n",
       "      <td>9530</td>\n",
       "    </tr>\n",
       "  </tbody>\n",
       "</table>\n",
       "</div>"
      ],
      "text/plain": [
       "       customer_id  song_id\n",
       "17288       K24595      189\n",
       "493127       L1416      467\n",
       "155892      G37171     7033\n",
       "15475       H18372       19\n",
       "82767       K21545     9530"
      ]
     },
     "execution_count": 54,
     "metadata": {},
     "output_type": "execute_result"
    }
   ],
   "source": [
    "test.head()"
   ]
  },
  {
   "cell_type": "code",
   "execution_count": 55,
   "metadata": {
    "ExecuteTime": {
     "end_time": "2021-04-30T20:37:13.837629Z",
     "start_time": "2021-04-30T20:37:13.748577Z"
    }
   },
   "outputs": [],
   "source": [
    "user_ids = train.customer_id.unique()\n",
    "total_users = len(user_ids)"
   ]
  },
  {
   "cell_type": "code",
   "execution_count": 56,
   "metadata": {},
   "outputs": [
    {
     "name": "stdout",
     "output_type": "stream",
     "text": [
      "Starting truncated svd with number of components as 20\n",
      "Iteration: 0 , Loss: 0.0032432926872290914 \n",
      "Iteration: 1 , Loss: 0.0029521382008729073 \n",
      "Iteration: 2 , Loss: 0.002712757986518888 \n",
      "Iteration: 3 , Loss: 0.0025124830255213604 \n",
      "Iteration: 4 , Loss: 0.0023420139451461788 \n",
      "Iteration: 5 , Loss: 0.002194457567270308 \n",
      "Iteration: 6 , Loss: 0.00206485081139122 \n",
      "Iteration: 7 , Loss: 0.00194960979826583 \n",
      "Iteration: 8 , Loss: 0.0018460992328908962 \n",
      "Iteration: 9 , Loss: 0.0017523397189909459 \n",
      "Iteration: 10 , Loss: 0.0016668140380786802 \n",
      "Iteration: 11 , Loss: 0.0015883372982482638 \n",
      "Iteration: 12 , Loss: 0.0015159680213905923 \n",
      "Iteration: 13 , Loss: 0.0014489460343280276 \n",
      "Iteration: 14 , Loss: 0.0013866483425620962 \n",
      "Iteration: 15 , Loss: 0.00132855731931162 \n",
      "Iteration: 16 , Loss: 0.00127423746739771 \n",
      "Iteration: 17 , Loss: 0.0012233182280310165 \n",
      "Iteration: 18 , Loss: 0.001175481102978493 \n",
      "Iteration: 19 , Loss: 0.0011304498851131273 \n",
      "Iteration: 20 , Loss: 0.0010879831512197113 \n",
      "Iteration: 21 , Loss: 0.0010478684178702605 \n",
      "Iteration: 22 , Loss: 0.0010099175327984418 \n",
      "Iteration: 23 , Loss: 0.0009739629943759022 \n",
      "Iteration: 24 , Loss: 0.000939854976462644 \n",
      "Iteration: 25 , Loss: 0.0009074588958847586 \n",
      "Iteration: 26 , Loss: 0.0008766534025134913 \n",
      "Iteration: 27 , Loss: 0.0008473287025212158 \n",
      "Iteration: 28 , Loss: 0.0008193851474508933 \n",
      "Iteration: 29 , Loss: 0.0007927320377562433 \n",
      "Iteration: 30 , Loss: 0.00076728660120249 \n",
      "Iteration: 31 , Loss: 0.0007429731151931952 \n",
      "Iteration: 32 , Loss: 0.0007197221485740916 \n",
      "Iteration: 33 , Loss: 0.000697469903371214 \n",
      "Iteration: 34 , Loss: 0.0006761576406798092 \n",
      "Iteration: 35 , Loss: 0.0006557311778381679 \n",
      "Iteration: 36 , Loss: 0.00063614044631368 \n",
      "Iteration: 37 , Loss: 0.0006173391015519381 \n",
      "Iteration: 38 , Loss: 0.0005992841775048713 \n",
      "Iteration: 39 , Loss: 0.0005819357797415816 \n",
      "Iteration: 40 , Loss: 0.0005652568120153138 \n",
      "Iteration: 41 , Loss: 0.000549212731956504 \n",
      "Iteration: 42 , Loss: 0.0005337713322191269 \n",
      "Iteration: 43 , Loss: 0.0005189025439521187 \n",
      "Iteration: 44 , Loss: 0.0005045782599203511 \n",
      "Iteration: 45 , Loss: 0.0004907721749772287 \n",
      "Iteration: 46 , Loss: 0.0004774596419070016 \n",
      "Iteration: 47 , Loss: 0.00046461754092028953 \n",
      "Iteration: 48 , Loss: 0.00045222416131013147 \n",
      "Iteration: 49 , Loss: 0.0004402590939653833 \n",
      "Done\n",
      "Starting truncated svd with number of components as 15\n",
      "Iteration: 0 , Loss: 0.003181960847151093 \n",
      "Iteration: 1 , Loss: 0.0031086078577121493 \n",
      "Iteration: 2 , Loss: 0.003043886700591961 \n",
      "Iteration: 3 , Loss: 0.0029862961468411866 \n",
      "Iteration: 4 , Loss: 0.002934697975680037 \n",
      "Iteration: 5 , Loss: 0.002888181993016681 \n",
      "Iteration: 6 , Loss: 0.002845999820495672 \n",
      "Iteration: 7 , Loss: 0.002807528324184725 \n",
      "Iteration: 8 , Loss: 0.0027722462970427497 \n",
      "Iteration: 9 , Loss: 0.0027397173859334436 \n",
      "Done\n"
     ]
    }
   ],
   "source": [
    "### TRUNCSVD ###\n",
    "\n",
    "#Removing duplicates\n",
    "song_matrix = pd.concat([train,test]).drop_duplicates(subset = ['customer_id','song_id'],keep = 'first')\n",
    "#Creates a song matrix of #numofusers vs #noofsongs\n",
    "song_matrix = song_matrix.pivot('customer_id','song_id','score')\n",
    "\n",
    "song_means = song_matrix.mean()\n",
    "user_means = song_matrix.mean(axis=1)\n",
    "#Mean shifting\n",
    "song_shifted_temp = song_matrix-song_means\n",
    "song_shifted = song_shifted_temp.fillna(0)\n",
    "#To get locations where we have ratings\n",
    "mask = -song_shifted_temp.isnull()\n",
    "\n",
    "def repeated_matrix_reconstruction(num_pcs,num_iterations):\n",
    "    global song_shifted\n",
    "    for i in range(num_iterations):\n",
    "        SVD = TruncatedSVD(n_components=num_pcs,random_state=42)\n",
    "        SVD.fit(song_shifted)\n",
    "        #For the ease of applying masks we work with pandas\n",
    "        song_represented =  pd.DataFrame(SVD.inverse_transform(SVD.transform(song_shifted)),columns=song_shifted.columns,index=song_shifted.index)\n",
    "        loss = mean_squared_error(song_represented[mask].fillna(0),song_shifted_temp[mask].fillna(0))\n",
    "        print('Iteration: {} , Loss: {} '.format(i,loss))\n",
    "        #To just update the non-zero values of song_reprented values to the true ratings\n",
    "        \n",
    "        if i < (num_iterations - 1):\n",
    "            song_represented[mask] = song_shifted_temp[mask]\n",
    "        \n",
    "        song_shifted = song_represented\n",
    "            \n",
    "    #Mean shifting it back\n",
    "    song_mat = song_shifted + song_means\n",
    "    song_mat = song_mat.clip(lower=1,upper=5)\n",
    "    return song_mat\n",
    "print(\"Starting truncated svd with number of components as 20\")\n",
    "representative_matrix_20 = repeated_matrix_reconstruction(50,30)\n",
    "print(\"Done\")\n",
    "print(\"Starting truncated svd with number of components as 15\")\n",
    "representative_matrix_15 = repeated_matrix_reconstruction(15,10)\n",
    "print(\"Done\")\n",
    "#bagging\n",
    "rating_matrix = (representative_matrix_15+representative_matrix_20)/2"
   ]
  },
  {
   "cell_type": "code",
   "execution_count": 59,
   "metadata": {},
   "outputs": [],
   "source": [
    "rating_matrix = representative_matrix_20"
   ]
  },
  {
   "cell_type": "code",
   "execution_count": 60,
   "metadata": {},
   "outputs": [],
   "source": [
    "trunc_prediction = np.zeros(len(test))\n",
    "for i in range(len(test)):\n",
    "    userid =  test.iloc[i,0]\n",
    "    songid = test.iloc[i,1]\n",
    "    trunc_prediction[i] = rating_matrix[rating_matrix.index==userid][songid].values[0]\n",
    "    \n"
   ]
  },
  {
   "cell_type": "code",
   "execution_count": 61,
   "metadata": {},
   "outputs": [
    {
     "data": {
      "text/plain": [
       "0.8690032670534558"
      ]
     },
     "execution_count": 61,
     "metadata": {},
     "output_type": "execute_result"
    }
   ],
   "source": [
    "PRED = trunc_prediction\n",
    "PRED = np.around(PRED,1)\n",
    "\n",
    "PRED = np.clip(PRED, a_min# SUBMISSION\n",
    " = 1, a_max = 5)\n",
    "\n",
    "\n",
    "mean_squared_error(Y_test, PRED)"
   ]
  },
  {
   "cell_type": "code",
   "execution_count": 58,
   "metadata": {},
   "outputs": [
    {
     "data": {
      "text/plain": [
       "0.7990184757505774"
      ]
     },
     "execution_count": 58,
     "metadata": {},
     "output_type": "execute_result"
    }
   ],
   "source": [
    "PRED = trunc_prediction\n",
    "PRED = np.around(PRED,1)\n",
    "\n",
    "PRED = np.clip(PRED, a_min# SUBMISSION\n",
    " = 1, a_max = 5)\n",
    "\n",
    "\n",
    "mean_squared_error(Y_test, PRED)"
   ]
  },
  {
   "cell_type": "code",
   "execution_count": null,
   "metadata": {},
   "outputs": [],
   "source": []
  },
  {
   "cell_type": "code",
   "execution_count": 62,
   "metadata": {},
   "outputs": [
    {
     "name": "stdout",
     "output_type": "stream",
     "text": [
      "Starting truncated svd with number of components as 20\n",
      "Iteration: 0 , Loss: 0.0037803236976831508 \n",
      "Iteration: 1 , Loss: 0.003545879891388671 \n",
      "Iteration: 2 , Loss: 0.0033485317373354874 \n",
      "Iteration: 3 , Loss: 0.0031808493839277025 \n",
      "Iteration: 4 , Loss: 0.003036367396052526 \n",
      "Iteration: 5 , Loss: 0.002910004986944196 \n",
      "Iteration: 6 , Loss: 0.0027980035709659207 \n",
      "Iteration: 7 , Loss: 0.0026975717532641596 \n",
      "Iteration: 8 , Loss: 0.002606611353641308 \n",
      "Iteration: 9 , Loss: 0.002523525278231745 \n",
      "Iteration: 10 , Loss: 0.002447081037011412 \n",
      "Iteration: 11 , Loss: 0.002376313369831556 \n",
      "Iteration: 12 , Loss: 0.002310454831821751 \n",
      "Iteration: 13 , Loss: 0.002248886227144721 \n",
      "Iteration: 14 , Loss: 0.002191101006688455 \n",
      "Iteration: 15 , Loss: 0.002136679455856653 \n",
      "Iteration: 16 , Loss: 0.0020852697617473 \n",
      "Iteration: 17 , Loss: 0.002036573945384914 \n",
      "Iteration: 18 , Loss: 0.00199033726567464 \n",
      "Iteration: 19 , Loss: 0.0019463401274108583 \n",
      "Iteration: 20 , Loss: 0.0019043918168481415 \n",
      "Iteration: 21 , Loss: 0.0018643255880532988 \n",
      "Iteration: 22 , Loss: 0.0018259947609010414 \n",
      "Iteration: 23 , Loss: 0.0017892695869891877 \n",
      "Iteration: 24 , Loss: 0.001754034706308294 \n",
      "Iteration: 25 , Loss: 0.0017201870642634327 \n",
      "Iteration: 26 , Loss: 0.0016876341917770404 \n",
      "Iteration: 27 , Loss: 0.001656292774911543 \n",
      "Iteration: 28 , Loss: 0.0016260874576184828 \n",
      "Iteration: 29 , Loss: 0.001596949833818069 \n",
      "Done\n",
      "Starting truncated svd with number of components as 15\n",
      "Iteration: 0 , Loss: 0.003153096153410689 \n",
      "Iteration: 1 , Loss: 0.003097303361788118 \n",
      "Iteration: 2 , Loss: 0.003048999825312159 \n",
      "Iteration: 3 , Loss: 0.0030063531325815705 \n",
      "Iteration: 4 , Loss: 0.002968126029206257 \n",
      "Iteration: 5 , Loss: 0.0029334544340228457 \n",
      "Iteration: 6 , Loss: 0.002901713692852074 \n",
      "Iteration: 7 , Loss: 0.00287243650759097 \n",
      "Iteration: 8 , Loss: 0.002845262056635554 \n",
      "Iteration: 9 , Loss: 0.0028199040615156865 \n",
      "Done\n"
     ]
    }
   ],
   "source": [
    "songs_df=pd.read_csv('songs.csv')\n",
    "test=pd.read_csv('test.csv')\n",
    "df_submission = pd.read_csv('dummy_submission.csv')\n",
    "df_new_train = pd.read_csv('train.csv')\n",
    "train=df_new_train.reset_index(drop=True)\n",
    "\n",
    "user_ids = train.customer_id.unique()\n",
    "total_users = len(user_ids)\n",
    "\n",
    "\n",
    "### TRUNCSVD ###\n",
    "\n",
    "#Removing duplicates\n",
    "song_matrix = pd.concat([train,test]).drop_duplicates(subset = ['customer_id','song_id'],keep = 'first')\n",
    "#Creates a song matrix of #numofusers vs #noofsongs\n",
    "song_matrix = song_matrix.pivot('customer_id','song_id','score')\n",
    "\n",
    "song_means = song_matrix.mean()\n",
    "user_means = song_matrix.mean(axis=1)\n",
    "#Mean shifting\n",
    "song_shifted_temp = song_matrix-song_means\n",
    "song_shifted = song_shifted_temp.fillna(0)\n",
    "#To get locations where we have ratings\n",
    "mask = -song_shifted_temp.isnull()\n",
    "\n",
    "def repeated_matrix_reconstruction(num_pcs,num_iterations):\n",
    "    global song_shifted\n",
    "    for i in range(num_iterations):\n",
    "        SVD = TruncatedSVD(n_components=num_pcs,random_state=42)\n",
    "        SVD.fit(song_shifted)\n",
    "        #For the ease of applying masks we work with pandas\n",
    "        song_represented =  pd.DataFrame(SVD.inverse_transform(SVD.transform(song_shifted)),columns=song_shifted.columns,index=song_shifted.index)\n",
    "        loss = mean_squared_error(song_represented[mask].fillna(0),song_shifted_temp[mask].fillna(0))\n",
    "        print('Iteration: {} , Loss: {} '.format(i,loss))\n",
    "        #To just update the non-zero values of song_reprented values to the true ratings\n",
    "        \n",
    "        if i < (num_iterations - 1):\n",
    "            song_represented[mask] = song_shifted_temp[mask]\n",
    "        \n",
    "        song_shifted = song_represented\n",
    "            \n",
    "    #Mean shifting it back\n",
    "    song_mat = song_shifted + song_means\n",
    "    song_mat = song_mat.clip(lower=1,upper=5)\n",
    "    return song_mat\n",
    "print(\"Starting truncated svd with number of components as 20\")\n",
    "representative_matrix_20 = repeated_matrix_reconstruction(50,30)\n",
    "print(\"Done\")\n",
    "print(\"Starting truncated svd with number of components as 15\")\n",
    "representative_matrix_15 = repeated_matrix_reconstruction(15,10)\n",
    "print(\"Done\")\n",
    "#bagging\n",
    "rating_matrix = (representative_matrix_15+representative_matrix_20)/2\n",
    "\n",
    "\n",
    "trunc_prediction = np.zeros(len(test))\n",
    "for i in range(len(test)):\n",
    "    userid =  test.iloc[i,0]\n",
    "    songid = test.iloc[i,1]\n",
    "    trunc_prediction[i] = rating_matrix[rating_matrix.index==userid][songid].values[0]\n",
    "\n",
    "\n",
    "PRED = trunc_prediction\n",
    "PRED = np.around(PRED,1)\n",
    "\n",
    "PRED = np.clip(PRED, a_min# SUBMISSION\n",
    " = 1, a_max = 5)\n",
    "\n",
    "\n",
    "df_submission.score = PRED\n",
    "df_submission.to_csv('./RM_v4.csv',index=False)\n"
   ]
  },
  {
   "cell_type": "code",
   "execution_count": 11,
   "metadata": {},
   "outputs": [
    {
     "data": {
      "text/html": [
       "<div>\n",
       "<style scoped>\n",
       "    .dataframe tbody tr th:only-of-type {\n",
       "        vertical-align: middle;\n",
       "    }\n",
       "\n",
       "    .dataframe tbody tr th {\n",
       "        vertical-align: top;\n",
       "    }\n",
       "\n",
       "    .dataframe thead th {\n",
       "        text-align: right;\n",
       "    }\n",
       "</style>\n",
       "<table border=\"1\" class=\"dataframe\">\n",
       "  <thead>\n",
       "    <tr style=\"text-align: right;\">\n",
       "      <th></th>\n",
       "      <th>test_row_id</th>\n",
       "      <th>score</th>\n",
       "    </tr>\n",
       "  </thead>\n",
       "  <tbody>\n",
       "    <tr>\n",
       "      <th>0</th>\n",
       "      <td>0</td>\n",
       "      <td>3.4</td>\n",
       "    </tr>\n",
       "    <tr>\n",
       "      <th>1</th>\n",
       "      <td>1</td>\n",
       "      <td>3.7</td>\n",
       "    </tr>\n",
       "    <tr>\n",
       "      <th>2</th>\n",
       "      <td>2</td>\n",
       "      <td>4.0</td>\n",
       "    </tr>\n",
       "    <tr>\n",
       "      <th>3</th>\n",
       "      <td>3</td>\n",
       "      <td>4.0</td>\n",
       "    </tr>\n",
       "    <tr>\n",
       "      <th>4</th>\n",
       "      <td>4</td>\n",
       "      <td>3.9</td>\n",
       "    </tr>\n",
       "  </tbody>\n",
       "</table>\n",
       "</div>"
      ],
      "text/plain": [
       "   test_row_id  score\n",
       "0            0    3.4\n",
       "1            1    3.7\n",
       "2            2    4.0\n",
       "3            3    4.0\n",
       "4            4    3.9"
      ]
     },
     "execution_count": 11,
     "metadata": {},
     "output_type": "execute_result"
    }
   ],
   "source": [
    "df_submission.head()"
   ]
  },
  {
   "cell_type": "code",
   "execution_count": null,
   "metadata": {},
   "outputs": [],
   "source": []
  }
 ],
 "metadata": {
  "kernelspec": {
   "display_name": "Python 3",
   "language": "python",
   "name": "python3"
  },
  "language_info": {
   "codemirror_mode": {
    "name": "ipython",
    "version": 3
   },
   "file_extension": ".py",
   "mimetype": "text/x-python",
   "name": "python",
   "nbconvert_exporter": "python",
   "pygments_lexer": "ipython3",
   "version": "3.7.10"
  },
  "toc": {
   "base_numbering": 1,
   "nav_menu": {},
   "number_sections": true,
   "sideBar": true,
   "skip_h1_title": false,
   "title_cell": "Table of Contents",
   "title_sidebar": "Contents",
   "toc_cell": false,
   "toc_position": {},
   "toc_section_display": true,
   "toc_window_display": false
  },
  "varInspector": {
   "cols": {
    "lenName": 16,
    "lenType": 16,
    "lenVar": 40
   },
   "kernels_config": {
    "python": {
     "delete_cmd_postfix": "",
     "delete_cmd_prefix": "del ",
     "library": "var_list.py",
     "varRefreshCmd": "print(var_dic_list())"
    },
    "r": {
     "delete_cmd_postfix": ") ",
     "delete_cmd_prefix": "rm(",
     "library": "var_list.r",
     "varRefreshCmd": "cat(var_dic_list()) "
    }
   },
   "types_to_exclude": [
    "module",
    "function",
    "builtin_function_or_method",
    "instance",
    "_Feature"
   ],
   "window_display": false
  }
 },
 "nbformat": 4,
 "nbformat_minor": 2
}
